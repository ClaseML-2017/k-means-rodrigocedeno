{
 "cells": [
  {
   "cell_type": "markdown",
   "metadata": {},
   "source": [
    "## AND Neuron"
   ]
  },
  {
   "cell_type": "code",
   "execution_count": 2,
   "metadata": {},
   "outputs": [],
   "source": [
    "import tensorflow as tf\n",
    "import numpy as np\n",
    "import matplotlib.pyplot as plt\n",
    "%matplotlib inline"
   ]
  },
  {
   "cell_type": "code",
   "execution_count": 2,
   "metadata": {},
   "outputs": [],
   "source": [
    "X=np.asarray([[0,0],[0,1],[1,0],[1,1]])\n",
    "Y=np.asarray([[0],[0],[0],[1]])"
   ]
  },
  {
   "cell_type": "code",
   "execution_count": 3,
   "metadata": {},
   "outputs": [],
   "source": [
    "input_layer_size = 2\n",
    "output_layer_size = 1"
   ]
  },
  {
   "cell_type": "code",
   "execution_count": 4,
   "metadata": {},
   "outputs": [],
   "source": [
    "x = tf.placeholder(tf.float32, [None, input_layer_size])\n",
    "yb = tf.placeholder(tf.float32, [None, output_layer_size])\n",
    "\n",
    "batch_size = 100"
   ]
  },
  {
   "cell_type": "code",
   "execution_count": 5,
   "metadata": {},
   "outputs": [],
   "source": [
    "W_layer1=tf.Variable(tf.random_uniform([input_layer_size,output_layer_size], -1, 1), name=\"W_layer1\")\n",
    "b_layer1 = tf.Variable(tf.zeros([output_layer_size]), name=\"b_layer1\")\n",
    "l1 = tf.add(tf.matmul(x, W_layer1), b_layer1)\n",
    "l1 = tf.nn.sigmoid(l1)"
   ]
  },
  {
   "cell_type": "code",
   "execution_count": 6,
   "metadata": {},
   "outputs": [],
   "source": [
    "prediction = l1\n",
    "cost = tf.reduce_mean(tf.reduce_sum((yb-prediction)**2))\n",
    "optimizer =  tf.train.GradientDescentOptimizer(0.01).minimize(cost)"
   ]
  },
  {
   "cell_type": "code",
   "execution_count": 7,
   "metadata": {},
   "outputs": [],
   "source": [
    "init = tf.global_variables_initializer()\n",
    "sess = tf.Session()"
   ]
  },
  {
   "cell_type": "code",
   "execution_count": 8,
   "metadata": {},
   "outputs": [],
   "source": [
    "sess.run(init)\n",
    "for i in range(5000):\n",
    "  sess.run(optimizer, feed_dict={x: X, yb: Y})"
   ]
  },
  {
   "cell_type": "code",
   "execution_count": 9,
   "metadata": {},
   "outputs": [
    {
     "name": "stdout",
     "output_type": "stream",
     "text": [
      "[[ 0.34240079]]\n",
      "[[ 2.63166976]\n",
      " [ 2.63555002]]\n"
     ]
    }
   ],
   "source": [
    "print(sess.run(prediction, feed_dict={x:[[0.8,0.5]]}))\n",
    "print(sess.run(W_layer1, feed_dict={x: X, yb: Y}))"
   ]
  },
  {
   "cell_type": "code",
   "execution_count": 10,
   "metadata": {},
   "outputs": [],
   "source": [
    "w=[sess.run(b_layer1, feed_dict={x: X, yb: Y})[0]]+[i[0] for i in sess.run(W_layer1, feed_dict={x: X, yb: Y})]\n",
    "m=((w[0]/w[2]))/((-w[0]/w[1]))"
   ]
  },
  {
   "cell_type": "code",
   "execution_count": 11,
   "metadata": {},
   "outputs": [
    {
     "data": {
      "text/plain": [
       "(-5.2, 5.2)"
      ]
     },
     "execution_count": 11,
     "metadata": {},
     "output_type": "execute_result"
    },
    {
     "data": {
      "image/png": "[encoded data removed]",
      "text/plain": [
       "<matplotlib.figure.Figure at 0x7fad21ed6518>"
      ]
     },
     "metadata": {},
     "output_type": "display_data"
    }
   ],
   "source": [
    "plt.scatter(X[:,0],X[:,1],c=['red' if i==1 else 'blue' for i in Y])\n",
    "x2 = np.linspace(-5.2,5.2,100) # 100 numeros espaciados\n",
    "plt.plot(x2,-w[0]/w[2]+m*x2,color='red')\n",
    "plt.ylim([-5.2,5.2])\n",
    "plt.xlim([-5.2,5.2])"
   ]
  },
  {
   "cell_type": "code",
   "execution_count": 12,
   "metadata": {},
   "outputs": [],
   "source": [
    "sess.close()"
   ]
  },
  {
   "cell_type": "markdown",
   "metadata": {},
   "source": [
    "## XOR Neural Network"
   ]
  },
  {
   "cell_type": "code",
   "execution_count": 3,
   "metadata": {},
   "outputs": [],
   "source": [
    "X2=np.asarray([[0,0],[0,1],[1,0],[1,1]])\n",
    "Y2=np.asarray([[0],[1],[1],[0]])"
   ]
  },
  {
   "cell_type": "code",
   "execution_count": 4,
   "metadata": {},
   "outputs": [
    {
     "data": {
      "text/plain": [
       "array([[0, 0],\n",
       "       [0, 1],\n",
       "       [1, 0],\n",
       "       [1, 1]])"
      ]
     },
     "execution_count": 4,
     "metadata": {},
     "output_type": "execute_result"
    }
   ],
   "source": [
    "X2"
   ]
  },
  {
   "cell_type": "code",
   "execution_count": 14,
   "metadata": {},
   "outputs": [],
   "source": [
    "input_layer_size = 2\n",
    "hidden_layer_size = 2\n",
    "output_layer_size = 1"
   ]
  },
  {
   "cell_type": "code",
   "execution_count": 15,
   "metadata": {},
   "outputs": [],
   "source": [
    "x2 = tf.placeholder(tf.float32, [None, input_layer_size])\n",
    "yb2 = tf.placeholder(tf.float32, [None, output_layer_size])"
   ]
  },
  {
   "cell_type": "code",
   "execution_count": 16,
   "metadata": {},
   "outputs": [],
   "source": [
    "W2_layer1 = tf.Variable(tf.random_uniform([input_layer_size, hidden_layer_size]), name=\"W_layer1\")\n",
    "b2_layer1 = tf.Variable(tf.zeros([hidden_layer_size]), name=\"b_layer1\")\n",
    "\n",
    "W2_layer2 = tf.Variable(tf.random_uniform([hidden_layer_size, output_layer_size], -1, 1), name = \"W_layer2\")\n",
    "b2_layer2 = tf.Variable(tf.zeros([output_layer_size]), name = \"b_layer2\")"
   ]
  },
  {
   "cell_type": "code",
   "execution_count": 17,
   "metadata": {},
   "outputs": [],
   "source": [
    "y1 = tf.nn.sigmoid(tf.matmul(x2, W2_layer1) + b2_layer1)\n",
    "y2 = tf.nn.sigmoid(tf.matmul(x2, W2_layer2) + b2_layer2)\n",
    "\n",
    "cost2 = tf.reduce_mean(tf.reduce_sum((yb2 - y2)**2))\n",
    "optimizer2 = tf.train.GradientDescentOptimizer(0.1).minimize(cost2)"
   ]
  },
  {
   "cell_type": "code",
   "execution_count": 18,
   "metadata": {},
   "outputs": [],
   "source": [
    "init2 = tf.global_variables_initializer()\n",
    "sess2 = tf.Session()"
   ]
  },
  {
   "cell_type": "code",
   "execution_count": 19,
   "metadata": {},
   "outputs": [],
   "source": [
    "sess2.run(init2)\n",
    "for j in range(5000):\n",
    "    sess2.run(optimizer2, feed_dict = {x2: X2, yb2: Y2})"
   ]
  },
  {
   "cell_type": "code",
   "execution_count": 20,
   "metadata": {},
   "outputs": [
    {
     "name": "stdout",
     "output_type": "stream",
     "text": [
      "[[ 0.5]]\n",
      "[[ -1.32626212e-07]\n",
      " [ -1.32683056e-07]]\n"
     ]
    }
   ],
   "source": [
    "print(sess2.run(y2, feed_dict={x2:[[0.8,0.5]]}))\n",
    "print(sess2.run(W2_layer2, feed_dict={x2: X2, yb2: Y2}))"
   ]
  },
  {
   "cell_type": "code",
   "execution_count": 21,
   "metadata": {},
   "outputs": [],
   "source": [
    "w2=[sess2.run(b2_layer2, feed_dict={x2: X2, yb2: Y2})[0]]+[i[0] for i in sess2.run(W2_layer2, feed_dict={x2: X2, yb2: Y2})]"
   ]
  },
  {
   "cell_type": "code",
   "execution_count": 22,
   "metadata": {},
   "outputs": [],
   "source": [
    "m2=((w2[0]/w2[2]))/((-w2[0]/w2[1]))"
   ]
  },
  {
   "cell_type": "code",
   "execution_count": 23,
   "metadata": {},
   "outputs": [
    {
     "data": {
      "text/plain": [
       "(-0.5, 1.2)"
      ]
     },
     "execution_count": 23,
     "metadata": {},
     "output_type": "execute_result"
    },
    {
     "data": {
      "image/png": "[encoded data removed]",
      "text/plain": [
       "<matplotlib.figure.Figure at 0x7fad2059b208>"
      ]
     },
     "metadata": {},
     "output_type": "display_data"
    }
   ],
   "source": [
    "plt.scatter(X2[:,0],X2[:,1],c=['red' if i==1 else 'blue' for i in Y2])\n",
    "x3 = np.linspace(-5.2,5.2,100) # 100 numeros espaciados\n",
    "plt.plot(x3,-w2[0]/w2[2]+m2*x3,color='red')\n",
    "#plt.plot(x3,-w2[0]/w2[2]+m*x3,color='blue')\n",
    "\n",
    "#plt.plot(x,-(yb2[0]/w1[1])-(w1[0]/w1[1])*x) \n",
    "#plt.plot(x2,-(yb2[1]/w2[1])-(w2[0]/w2[1])*x2)\n",
    "\n",
    "plt.ylim([-2, 2])\n",
    "plt.xlim([-0.5, 1.2])"
   ]
  },
  {
   "cell_type": "markdown",
   "metadata": {},
   "source": [
    "## Circle Neural Network "
   ]
  },
  {
   "cell_type": "code",
   "execution_count": null,
   "metadata": {},
   "outputs": [],
   "source": []
  }
 ],
 "metadata": {
  "kernelspec": {
   "display_name": "Python 2",
   "language": "python",
   "name": "python2"
  },
  "language_info": {
   "codemirror_mode": {
    "name": "ipython",
    "version": 3
   },
   "file_extension": ".py",
   "mimetype": "text/x-python",
   "name": "python",
   "nbconvert_exporter": "python",
   "pygments_lexer": "ipython3",
   "version": "3.5.2"
  }
 },
 "nbformat": 4,
 "nbformat_minor": 2
}
